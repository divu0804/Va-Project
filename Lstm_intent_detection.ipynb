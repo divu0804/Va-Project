{
  "cells": [
    {
      "cell_type": "markdown",
      "source": [
        "# **Load Data**"
      ],
      "metadata": {
        "id": "mfTAFu95KzGh"
      }
    },
    {
      "cell_type": "code",
      "execution_count": 1,
      "metadata": {
        "colab": {
          "base_uri": "https://localhost:8080/"
        },
        "id": "bkDCKvL9-m6c",
        "outputId": "79154b77-17b8-4db0-ea69-90733f1afdc4"
      },
      "outputs": [
        {
          "output_type": "stream",
          "name": "stdout",
          "text": [
            "/usr/local/lib/python3.9/dist-packages/gdown/cli.py:121: FutureWarning: Option `--id` was deprecated in version 4.3.1 and will be removed in 5.0. You don't need to pass it anymore to use a file ID.\n",
            "  warnings.warn(\n",
            "Downloading...\n",
            "From: https://drive.google.com/uc?id=1OlcvGWReJMuyYQuOZm149vHWwPtlboR6\n",
            "To: /content/train.csv\n",
            "100% 799k/799k [00:00<00:00, 25.5MB/s]\n",
            "/usr/local/lib/python3.9/dist-packages/gdown/cli.py:121: FutureWarning: Option `--id` was deprecated in version 4.3.1 and will be removed in 5.0. You don't need to pass it anymore to use a file ID.\n",
            "  warnings.warn(\n",
            "Downloading...\n",
            "From: https://drive.google.com/uc?id=1Oi5cRlTybuIF2Fl5Bfsr-KkqrXrdt77w\n",
            "To: /content/valid.csv\n",
            "100% 43.3k/43.3k [00:00<00:00, 36.4MB/s]\n",
            "/usr/local/lib/python3.9/dist-packages/gdown/cli.py:121: FutureWarning: Option `--id` was deprecated in version 4.3.1 and will be removed in 5.0. You don't need to pass it anymore to use a file ID.\n",
            "  warnings.warn(\n",
            "Downloading...\n",
            "From: https://drive.google.com/uc?id=1ep9H6-HvhB4utJRLVcLzieWNUSG3P_uF\n",
            "To: /content/test.csv\n",
            "100% 43.1k/43.1k [00:00<00:00, 37.1MB/s]\n"
          ]
        }
      ],
      "source": [
        "!gdown --id 1OlcvGWReJMuyYQuOZm149vHWwPtlboR6 --output train.csv\n",
        "!gdown --id 1Oi5cRlTybuIF2Fl5Bfsr-KkqrXrdt77w --output valid.csv\n",
        "!gdown --id 1ep9H6-HvhB4utJRLVcLzieWNUSG3P_uF --output test.csv"
      ]
    },
    {
      "cell_type": "markdown",
      "source": [
        "# **Import Packages**"
      ],
      "metadata": {
        "id": "hX1gt8nXKlxa"
      }
    },
    {
      "cell_type": "code",
      "execution_count": 2,
      "metadata": {
        "id": "NX0bQ3d1_B5e"
      },
      "outputs": [],
      "source": [
        "import pandas as pd\n",
        "import numpy as np\n",
        "import seaborn as sns\n",
        "\n",
        "from tensorflow.keras.preprocessing.sequence import pad_sequences\n",
        "\n",
        "from tensorflow.keras.preprocessing.text import Tokenizer\n",
        "from tensorflow.keras.utils import to_categorical\n",
        "\n",
        "import tensorflow as tf\n",
        "from tensorflow.keras import layers\n"
      ]
    },
    {
      "cell_type": "markdown",
      "source": [
        "# **Read Data**"
      ],
      "metadata": {
        "id": "LS3s7IEaKdUZ"
      }
    },
    {
      "cell_type": "code",
      "execution_count": 3,
      "metadata": {
        "id": "lDnzLGaX_HIQ"
      },
      "outputs": [],
      "source": [
        "train = pd.read_csv(\"/content/train.csv\")\n",
        "valid = pd.read_csv(\"/content/valid.csv\")\n",
        "test = pd.read_csv(\"/content/test.csv\")"
      ]
    },
    {
      "cell_type": "code",
      "execution_count": 4,
      "metadata": {
        "colab": {
          "base_uri": "https://localhost:8080/",
          "height": 206
        },
        "id": "BGgYaMDy_Ose",
        "outputId": "a8afc882-97ca-457e-961e-cfbab4124613"
      },
      "outputs": [
        {
          "output_type": "execute_result",
          "data": {
            "text/plain": [
              "                                                text         intent\n",
              "0   listen to westbam alumb allergic on google music      PlayMusic\n",
              "1         add step to me to the 50 clásicos playlist  AddToPlaylist\n",
              "2  i give this current textbook a rating value of...       RateBook\n",
              "3               play the song little robin redbreast      PlayMusic\n",
              "4  please add iris dement to my playlist this is ...  AddToPlaylist"
            ],
            "text/html": [
              "\n",
              "  <div id=\"df-79ad1e6f-edf0-42cf-bb41-355211b874e9\">\n",
              "    <div class=\"colab-df-container\">\n",
              "      <div>\n",
              "<style scoped>\n",
              "    .dataframe tbody tr th:only-of-type {\n",
              "        vertical-align: middle;\n",
              "    }\n",
              "\n",
              "    .dataframe tbody tr th {\n",
              "        vertical-align: top;\n",
              "    }\n",
              "\n",
              "    .dataframe thead th {\n",
              "        text-align: right;\n",
              "    }\n",
              "</style>\n",
              "<table border=\"1\" class=\"dataframe\">\n",
              "  <thead>\n",
              "    <tr style=\"text-align: right;\">\n",
              "      <th></th>\n",
              "      <th>text</th>\n",
              "      <th>intent</th>\n",
              "    </tr>\n",
              "  </thead>\n",
              "  <tbody>\n",
              "    <tr>\n",
              "      <th>0</th>\n",
              "      <td>listen to westbam alumb allergic on google music</td>\n",
              "      <td>PlayMusic</td>\n",
              "    </tr>\n",
              "    <tr>\n",
              "      <th>1</th>\n",
              "      <td>add step to me to the 50 clásicos playlist</td>\n",
              "      <td>AddToPlaylist</td>\n",
              "    </tr>\n",
              "    <tr>\n",
              "      <th>2</th>\n",
              "      <td>i give this current textbook a rating value of...</td>\n",
              "      <td>RateBook</td>\n",
              "    </tr>\n",
              "    <tr>\n",
              "      <th>3</th>\n",
              "      <td>play the song little robin redbreast</td>\n",
              "      <td>PlayMusic</td>\n",
              "    </tr>\n",
              "    <tr>\n",
              "      <th>4</th>\n",
              "      <td>please add iris dement to my playlist this is ...</td>\n",
              "      <td>AddToPlaylist</td>\n",
              "    </tr>\n",
              "  </tbody>\n",
              "</table>\n",
              "</div>\n",
              "      <button class=\"colab-df-convert\" onclick=\"convertToInteractive('df-79ad1e6f-edf0-42cf-bb41-355211b874e9')\"\n",
              "              title=\"Convert this dataframe to an interactive table.\"\n",
              "              style=\"display:none;\">\n",
              "        \n",
              "  <svg xmlns=\"http://www.w3.org/2000/svg\" height=\"24px\"viewBox=\"0 0 24 24\"\n",
              "       width=\"24px\">\n",
              "    <path d=\"M0 0h24v24H0V0z\" fill=\"none\"/>\n",
              "    <path d=\"M18.56 5.44l.94 2.06.94-2.06 2.06-.94-2.06-.94-.94-2.06-.94 2.06-2.06.94zm-11 1L8.5 8.5l.94-2.06 2.06-.94-2.06-.94L8.5 2.5l-.94 2.06-2.06.94zm10 10l.94 2.06.94-2.06 2.06-.94-2.06-.94-.94-2.06-.94 2.06-2.06.94z\"/><path d=\"M17.41 7.96l-1.37-1.37c-.4-.4-.92-.59-1.43-.59-.52 0-1.04.2-1.43.59L10.3 9.45l-7.72 7.72c-.78.78-.78 2.05 0 2.83L4 21.41c.39.39.9.59 1.41.59.51 0 1.02-.2 1.41-.59l7.78-7.78 2.81-2.81c.8-.78.8-2.07 0-2.86zM5.41 20L4 18.59l7.72-7.72 1.47 1.35L5.41 20z\"/>\n",
              "  </svg>\n",
              "      </button>\n",
              "      \n",
              "  <style>\n",
              "    .colab-df-container {\n",
              "      display:flex;\n",
              "      flex-wrap:wrap;\n",
              "      gap: 12px;\n",
              "    }\n",
              "\n",
              "    .colab-df-convert {\n",
              "      background-color: #E8F0FE;\n",
              "      border: none;\n",
              "      border-radius: 50%;\n",
              "      cursor: pointer;\n",
              "      display: none;\n",
              "      fill: #1967D2;\n",
              "      height: 32px;\n",
              "      padding: 0 0 0 0;\n",
              "      width: 32px;\n",
              "    }\n",
              "\n",
              "    .colab-df-convert:hover {\n",
              "      background-color: #E2EBFA;\n",
              "      box-shadow: 0px 1px 2px rgba(60, 64, 67, 0.3), 0px 1px 3px 1px rgba(60, 64, 67, 0.15);\n",
              "      fill: #174EA6;\n",
              "    }\n",
              "\n",
              "    [theme=dark] .colab-df-convert {\n",
              "      background-color: #3B4455;\n",
              "      fill: #D2E3FC;\n",
              "    }\n",
              "\n",
              "    [theme=dark] .colab-df-convert:hover {\n",
              "      background-color: #434B5C;\n",
              "      box-shadow: 0px 1px 3px 1px rgba(0, 0, 0, 0.15);\n",
              "      filter: drop-shadow(0px 1px 2px rgba(0, 0, 0, 0.3));\n",
              "      fill: #FFFFFF;\n",
              "    }\n",
              "  </style>\n",
              "\n",
              "      <script>\n",
              "        const buttonEl =\n",
              "          document.querySelector('#df-79ad1e6f-edf0-42cf-bb41-355211b874e9 button.colab-df-convert');\n",
              "        buttonEl.style.display =\n",
              "          google.colab.kernel.accessAllowed ? 'block' : 'none';\n",
              "\n",
              "        async function convertToInteractive(key) {\n",
              "          const element = document.querySelector('#df-79ad1e6f-edf0-42cf-bb41-355211b874e9');\n",
              "          const dataTable =\n",
              "            await google.colab.kernel.invokeFunction('convertToInteractive',\n",
              "                                                     [key], {});\n",
              "          if (!dataTable) return;\n",
              "\n",
              "          const docLinkHtml = 'Like what you see? Visit the ' +\n",
              "            '<a target=\"_blank\" href=https://colab.research.google.com/notebooks/data_table.ipynb>data table notebook</a>'\n",
              "            + ' to learn more about interactive tables.';\n",
              "          element.innerHTML = '';\n",
              "          dataTable['output_type'] = 'display_data';\n",
              "          await google.colab.output.renderOutput(dataTable, element);\n",
              "          const docLink = document.createElement('div');\n",
              "          docLink.innerHTML = docLinkHtml;\n",
              "          element.appendChild(docLink);\n",
              "        }\n",
              "      </script>\n",
              "    </div>\n",
              "  </div>\n",
              "  "
            ]
          },
          "metadata": {},
          "execution_count": 4
        }
      ],
      "source": [
        "train.head()"
      ]
    },
    {
      "cell_type": "code",
      "execution_count": 5,
      "metadata": {
        "colab": {
          "base_uri": "https://localhost:8080/"
        },
        "id": "U1_VoSOr_O7Y",
        "outputId": "53410695-d643-49e4-95ea-c10b40b29b6e"
      },
      "outputs": [
        {
          "output_type": "execute_result",
          "data": {
            "text/plain": [
              "(13084, 2)"
            ]
          },
          "metadata": {},
          "execution_count": 5
        }
      ],
      "source": [
        "train.shape\n"
      ]
    },
    {
      "cell_type": "code",
      "execution_count": 6,
      "metadata": {
        "colab": {
          "base_uri": "https://localhost:8080/"
        },
        "id": "tdScTmuk_phE",
        "outputId": "de15e608-bdd8-4cb4-81af-21cf6e2cb6fa"
      },
      "outputs": [
        {
          "output_type": "execute_result",
          "data": {
            "text/plain": [
              "(700, 2)"
            ]
          },
          "metadata": {},
          "execution_count": 6
        }
      ],
      "source": [
        "valid.shape\n"
      ]
    },
    {
      "cell_type": "code",
      "execution_count": 7,
      "metadata": {
        "colab": {
          "base_uri": "https://localhost:8080/"
        },
        "id": "Sx9HMVAW_qQZ",
        "outputId": "bdeda3f7-a3e8-482e-cecf-1c0be39785f0"
      },
      "outputs": [
        {
          "output_type": "execute_result",
          "data": {
            "text/plain": [
              "(700, 2)"
            ]
          },
          "metadata": {},
          "execution_count": 7
        }
      ],
      "source": [
        "test.shape"
      ]
    },
    {
      "cell_type": "code",
      "execution_count": 8,
      "metadata": {
        "colab": {
          "base_uri": "https://localhost:8080/"
        },
        "id": "IRK-O97h_uD1",
        "outputId": "f807fa62-39e0-4066-98dc-bd85623c9de4"
      },
      "outputs": [
        {
          "output_type": "execute_result",
          "data": {
            "text/plain": [
              "PlayMusic               1914\n",
              "GetWeather              1896\n",
              "BookRestaurant          1881\n",
              "RateBook                1876\n",
              "SearchScreeningEvent    1852\n",
              "SearchCreativeWork      1847\n",
              "AddToPlaylist           1818\n",
              "Name: intent, dtype: int64"
            ]
          },
          "metadata": {},
          "execution_count": 8
        }
      ],
      "source": [
        "train['intent'].value_counts()"
      ]
    },
    {
      "cell_type": "markdown",
      "source": [
        "# **Plot Intents**"
      ],
      "metadata": {
        "id": "tKBRVd3tKOQe"
      }
    },
    {
      "cell_type": "code",
      "execution_count": 55,
      "metadata": {
        "colab": {
          "base_uri": "https://localhost:8080/",
          "height": 595
        },
        "id": "wy1QT3Y9_zl8",
        "outputId": "e6da120b-08cd-42e9-ee55-2ace91929bef"
      },
      "outputs": [
        {
          "output_type": "execute_result",
          "data": {
            "text/plain": [
              "[Text(0, 0, '0'),\n",
              " Text(1, 0, '1'),\n",
              " Text(2, 0, '2'),\n",
              " Text(3, 0, '3'),\n",
              " Text(4, 0, '4'),\n",
              " Text(5, 0, '5'),\n",
              " Text(6, 0, '6')]"
            ]
          },
          "metadata": {},
          "execution_count": 55
        },
        {
          "output_type": "display_data",
          "data": {
            "text/plain": [
              "<Figure size 640x480 with 1 Axes>"
            ],
            "image/png": "[encoded data removed]"
          },
          "metadata": {}
        }
      ],
      "source": [
        "#Plot intents\n",
        "chart = sns.countplot(x=train['intent'])\n",
        "plt.title(\"Number of texts per intent\")\n",
        "chart.set_xticklabels(chart.get_xticklabels(), rotation=45, ha=\"right\")\n"
      ]
    },
    {
      "cell_type": "markdown",
      "source": [
        "# **Feature Engineering**"
      ],
      "metadata": {
        "id": "PmzSnlfKKCUr"
      }
    },
    {
      "cell_type": "code",
      "execution_count": 10,
      "metadata": {
        "id": "Gb9AyhAX_zxG"
      },
      "outputs": [],
      "source": [
        "tokenizer=Tokenizer()\n",
        "\n",
        "tokenizer.fit_on_texts(train['text'].values)"
      ]
    },
    {
      "cell_type": "code",
      "execution_count": 11,
      "metadata": {
        "colab": {
          "base_uri": "https://localhost:8080/"
        },
        "id": "CqMUwV82DVOj",
        "outputId": "55cd961f-cf35-49de-ea6b-968a68d0ed32"
      },
      "outputs": [
        {
          "output_type": "stream",
          "name": "stdout",
          "text": [
            "11086\n"
          ]
        }
      ],
      "source": [
        "word_index = tokenizer.word_index\n",
        "vocab_size=len(word_index)\n",
        "\n",
        "print(vocab_size)"
      ]
    },
    {
      "cell_type": "code",
      "execution_count": 12,
      "metadata": {
        "id": "2XgMXj02DVdn"
      },
      "outputs": [],
      "source": [
        "train_sequences = tokenizer.texts_to_sequences(train['text'].values)\n",
        "sen_len=[]\n",
        "for i in train_sequences:\n",
        "    sen_len.append(len(i))"
      ]
    },
    {
      "cell_type": "code",
      "execution_count": 13,
      "metadata": {
        "colab": {
          "base_uri": "https://localhost:8080/"
        },
        "id": "FTdJtqKLDVrC",
        "outputId": "d7f0cf72-6c79-49f0-9f2f-b1b7c93d5177"
      },
      "outputs": [
        {
          "output_type": "execute_result",
          "data": {
            "text/plain": [
              "35"
            ]
          },
          "metadata": {},
          "execution_count": 13
        }
      ],
      "source": [
        "max(sen_len)"
      ]
    },
    {
      "cell_type": "code",
      "execution_count": 14,
      "metadata": {
        "id": "aK1O3ujwFe5R"
      },
      "outputs": [],
      "source": [
        "train_padded = pad_sequences(train_sequences, maxlen=40, padding='post')"
      ]
    },
    {
      "cell_type": "code",
      "execution_count": 15,
      "metadata": {
        "id": "RcLRBblgFfHu"
      },
      "outputs": [],
      "source": [
        "valid_sequences = tokenizer.texts_to_sequences(valid['text'].values)\n",
        "\n",
        "valid_padded = pad_sequences(valid_sequences, maxlen=40, padding='post')"
      ]
    },
    {
      "cell_type": "code",
      "execution_count": 31,
      "metadata": {
        "id": "KBTX3qr4FfQb"
      },
      "outputs": [],
      "source": [
        "classes=list(set(list(train['intent'].values)))\n",
        "\n",
        "class_index={}\n",
        "\n",
        "c=0\n",
        "for i in classes:\n",
        "    class_index[i]=c\n",
        "    c+=1\n",
        "\n",
        "for i in range(train.shape[0]):\n",
        "    train['intent'].loc[i]=class_index[train['intent'].loc[i]]\n",
        "\n",
        "y_train=tf.keras.utils.to_categorical(train['intent'].values, num_classes=7, dtype='float32')\n",
        "\n",
        "for i in range(valid.shape[0]):\n",
        "    valid['intent'].loc[i]=class_index[valid['intent'].loc[i]]\n",
        "\n",
        "y_valid=tf.keras.utils.to_categorical(valid['intent'].values, num_classes=7, dtype='float32')"
      ]
    },
    {
      "cell_type": "code",
      "execution_count": 17,
      "metadata": {
        "colab": {
          "base_uri": "https://localhost:8080/"
        },
        "id": "kdoIkPQjFpOq",
        "outputId": "e12c76d9-793a-47a3-9afd-e8da438f2d84"
      },
      "outputs": [
        {
          "output_type": "execute_result",
          "data": {
            "text/plain": [
              "(13084, 7)"
            ]
          },
          "metadata": {},
          "execution_count": 17
        }
      ],
      "source": [
        "y_train.shape"
      ]
    },
    {
      "cell_type": "code",
      "execution_count": 18,
      "metadata": {
        "colab": {
          "base_uri": "https://localhost:8080/"
        },
        "id": "UNXSBfK2GFVc",
        "outputId": "9ebd73a6-340d-46df-b7b2-f71b381fcce8"
      },
      "outputs": [
        {
          "output_type": "execute_result",
          "data": {
            "text/plain": [
              "(700, 7)"
            ]
          },
          "metadata": {},
          "execution_count": 18
        }
      ],
      "source": [
        "y_valid.shape"
      ]
    },
    {
      "cell_type": "markdown",
      "source": [
        "# **Model Training**"
      ],
      "metadata": {
        "id": "u_0f5TrXQwuK"
      }
    },
    {
      "cell_type": "code",
      "execution_count": 30,
      "metadata": {
        "id": "tWfCBFrOGFgj"
      },
      "outputs": [],
      "source": [
        "tf.keras.backend.clear_session()  \n",
        "\n",
        "embedding_dim = 64 \n",
        "\n",
        "def create_func_model():\n",
        "    inputs = tf.keras.Input(shape=(40,))\n",
        "    o1 = layers.Embedding(vocab_size+1,embedding_dim )(inputs)\n",
        "    o2=tf.keras.layers.LSTM(64,return_sequences=True, return_state=True)(o1)\n",
        "    o3=tf.keras.layers.LSTM(64)(o2)\n",
        "    o4 = layers.Dense(128, activation='relu')(o3)\n",
        "    outputs = layers.Dense(7,activation='softmax')(o4)\n",
        "\n",
        "    model_func = tf.keras.Model(inputs, outputs, name='model_func')\n",
        "\n",
        "  \n",
        "    model_func.compile(optimizer='adam',\n",
        "              loss=tf.keras.losses.CategoricalCrossentropy(),\n",
        "              metrics=['accuracy'])\n",
        "    return model_func"
      ]
    },
    {
      "cell_type": "code",
      "execution_count": 20,
      "metadata": {
        "id": "EV0ZkXt3GFr4"
      },
      "outputs": [],
      "source": [
        "model=create_func_model()"
      ]
    },
    {
      "cell_type": "code",
      "execution_count": 21,
      "metadata": {
        "colab": {
          "base_uri": "https://localhost:8080/"
        },
        "id": "ebtySb8uGM8z",
        "outputId": "8e277c50-dfa7-48c8-b70c-8776004ac175"
      },
      "outputs": [
        {
          "output_type": "stream",
          "name": "stdout",
          "text": [
            "Model: \"model_func\"\n",
            "__________________________________________________________________________________________________\n",
            " Layer (type)                   Output Shape         Param #     Connected to                     \n",
            "==================================================================================================\n",
            " input_1 (InputLayer)           [(None, 40)]         0           []                               \n",
            "                                                                                                  \n",
            " embedding (Embedding)          (None, 40, 64)       709568      ['input_1[0][0]']                \n",
            "                                                                                                  \n",
            " lstm (LSTM)                    [(None, 40, 64),     33024       ['embedding[0][0]']              \n",
            "                                 (None, 64),                                                      \n",
            "                                 (None, 64)]                                                      \n",
            "                                                                                                  \n",
            " lstm_1 (LSTM)                  (None, 64)           33024       ['lstm[0][0]',                   \n",
            "                                                                  'lstm[0][1]',                   \n",
            "                                                                  'lstm[0][2]']                   \n",
            "                                                                                                  \n",
            " dense (Dense)                  (None, 128)          8320        ['lstm_1[0][0]']                 \n",
            "                                                                                                  \n",
            " dense_1 (Dense)                (None, 7)            903         ['dense[0][0]']                  \n",
            "                                                                                                  \n",
            "==================================================================================================\n",
            "Total params: 784,839\n",
            "Trainable params: 784,839\n",
            "Non-trainable params: 0\n",
            "__________________________________________________________________________________________________\n"
          ]
        }
      ],
      "source": [
        "model.summary()"
      ]
    },
    {
      "cell_type": "code",
      "execution_count": 22,
      "metadata": {
        "colab": {
          "base_uri": "https://localhost:8080/"
        },
        "id": "K4FO9z7HGNIF",
        "outputId": "eee9a3ef-d36d-4666-9351-f0ef26fe2c25"
      },
      "outputs": [
        {
          "output_type": "stream",
          "name": "stdout",
          "text": [
            "Epoch 1/10\n",
            "409/409 [==============================] - 38s 80ms/step - loss: 1.0509 - accuracy: 0.5233 - val_loss: 0.5067 - val_accuracy: 0.7843\n",
            "Epoch 2/10\n",
            "409/409 [==============================] - 35s 86ms/step - loss: 0.5095 - accuracy: 0.7757 - val_loss: 0.3599 - val_accuracy: 0.8800\n",
            "Epoch 3/10\n",
            "409/409 [==============================] - 37s 90ms/step - loss: 0.2077 - accuracy: 0.9418 - val_loss: 0.1918 - val_accuracy: 0.9543\n",
            "Epoch 4/10\n",
            "409/409 [==============================] - 36s 88ms/step - loss: 0.0819 - accuracy: 0.9795 - val_loss: 0.1731 - val_accuracy: 0.9614\n",
            "Epoch 5/10\n",
            "409/409 [==============================] - 32s 79ms/step - loss: 0.0454 - accuracy: 0.9892 - val_loss: 0.1611 - val_accuracy: 0.9700\n",
            "Epoch 6/10\n",
            "409/409 [==============================] - 33s 81ms/step - loss: 0.0352 - accuracy: 0.9921 - val_loss: 0.1452 - val_accuracy: 0.9700\n",
            "Epoch 7/10\n",
            "409/409 [==============================] - 36s 87ms/step - loss: 0.0469 - accuracy: 0.9891 - val_loss: 0.1137 - val_accuracy: 0.9714\n",
            "Epoch 8/10\n",
            "409/409 [==============================] - 37s 90ms/step - loss: 0.0431 - accuracy: 0.9905 - val_loss: 0.1283 - val_accuracy: 0.9671\n",
            "Epoch 9/10\n",
            "409/409 [==============================] - 32s 78ms/step - loss: 0.0291 - accuracy: 0.9934 - val_loss: 0.1868 - val_accuracy: 0.9586\n",
            "Epoch 10/10\n",
            "409/409 [==============================] - 33s 80ms/step - loss: 0.0122 - accuracy: 0.9967 - val_loss: 0.1480 - val_accuracy: 0.9657\n"
          ]
        },
        {
          "output_type": "execute_result",
          "data": {
            "text/plain": [
              "<keras.callbacks.History at 0x7fc6f6e8b4c0>"
            ]
          },
          "metadata": {},
          "execution_count": 22
        }
      ],
      "source": [
        "model.fit(train_padded,y_train,epochs=10,validation_data=(valid_padded,y_valid))"
      ]
    },
    {
      "cell_type": "code",
      "execution_count": 23,
      "metadata": {
        "id": "GH4ESsLnG1og"
      },
      "outputs": [],
      "source": [
        "for i in range(test.shape[0]):\n",
        "    test['intent'].loc[i]=class_index[test['intent'].loc[i]]\n",
        "\n",
        "y_test=tf.keras.utils.to_categorical(test['intent'].values, num_classes=7, dtype='float32')"
      ]
    },
    {
      "cell_type": "code",
      "execution_count": 24,
      "metadata": {
        "id": "K1eg5BPgG11V"
      },
      "outputs": [],
      "source": [
        "test_sequences = tokenizer.texts_to_sequences(test['text'].values)\n",
        "\n",
        "test_padded = pad_sequences(test_sequences, maxlen=40, padding='post')"
      ]
    },
    {
      "cell_type": "markdown",
      "source": [
        "# **Prediction**"
      ],
      "metadata": {
        "id": "FJBhktA4SmjZ"
      }
    },
    {
      "cell_type": "code",
      "execution_count": 25,
      "metadata": {
        "colab": {
          "base_uri": "https://localhost:8080/"
        },
        "id": "xy4CPtFjG6ze",
        "outputId": "87a169e7-8527-4794-bc5a-088a45c9c16b"
      },
      "outputs": [
        {
          "output_type": "stream",
          "name": "stdout",
          "text": [
            "22/22 [==============================] - 1s 18ms/step\n"
          ]
        }
      ],
      "source": [
        "y_pred=model.predict(test_padded)"
      ]
    },
    {
      "cell_type": "code",
      "execution_count": 26,
      "metadata": {
        "id": "kNZV3pA5G69v"
      },
      "outputs": [],
      "source": [
        "pred=np.argmax(y_pred,axis=1)\n",
        "actual=np.argmax(y_test,axis=1)"
      ]
    },
    {
      "cell_type": "code",
      "execution_count": 36,
      "metadata": {
        "id": "q3wzJqAsG7Qm"
      },
      "outputs": [],
      "source": [
        "con_mat = tf.math.confusion_matrix(labels=actual, predictions=pred).numpy()"
      ]
    },
    {
      "cell_type": "code",
      "execution_count": 46,
      "metadata": {
        "colab": {
          "base_uri": "https://localhost:8080/"
        },
        "id": "5RJUMXE4IhoM",
        "outputId": "1191d305-004c-43af-a28c-37da8a743e1e"
      },
      "outputs": [
        {
          "output_type": "stream",
          "name": "stdout",
          "text": [
            "    0   1   2    3   4   5    6\n",
            "0  90   0   0    1   0   0    1\n",
            "1   0  80   0    0   0   0    0\n",
            "2   0   0  98    0   5   4    0\n",
            "3   3   0   0  101   0   0    0\n",
            "4   0   0  13    0  94   0    0\n",
            "5   0   0   6    0   0  79    1\n",
            "6   0   0   0    1   0   0  123\n"
          ]
        }
      ],
      "source": [
        "pd.set_option('display.max_columns', None)\n",
        "class_names=classes\n",
        "\n",
        "con_mat_dataframe = pd.DataFrame(con_mat,index = class_names, columns = class_names)\n",
        "print(con_mat_dataframe)"
      ]
    },
    {
      "cell_type": "code",
      "execution_count": 45,
      "metadata": {
        "colab": {
          "base_uri": "https://localhost:8080/"
        },
        "id": "XGxVTuzZIh1d",
        "outputId": "a66534d9-065e-46d5-dfab-d252da2a1353"
      },
      "outputs": [
        {
          "output_type": "stream",
          "name": "stdout",
          "text": [
            "accuracy of test data 0.95\n"
          ]
        }
      ],
      "source": [
        "total=0\n",
        "for i in range(pred.shape[0]):\n",
        "    if pred[i]==actual[i]:\n",
        "        total+=1\n",
        "print('accuracy of test data '+str(total/700))\n",
        "\n"
      ]
    }
  ],
  "metadata": {
    "colab": {
      "provenance": [],
      "toc_visible": true
    },
    "kernelspec": {
      "display_name": "Python 3",
      "name": "python3"
    }
  },
  "nbformat": 4,
  "nbformat_minor": 0
}