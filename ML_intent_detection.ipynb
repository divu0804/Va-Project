{
  "nbformat": 4,
  "nbformat_minor": 0,
  "metadata": {
    "colab": {
      "provenance": []
    },
    "kernelspec": {
      "name": "python3",
      "display_name": "Python 3"
    },
    "language_info": {
      "name": "python"
    }
  },
  "cells": [
    {
      "cell_type": "markdown",
      "source": [
        "# **Load Data**"
      ],
      "metadata": {
        "id": "dM0al13kqTkF"
      }
    },
    {
      "cell_type": "code",
      "execution_count": 1,
      "metadata": {
        "colab": {
          "base_uri": "https://localhost:8080/"
        },
        "id": "A7ZRJ100ATW-",
        "outputId": "93f2571b-89ab-4b77-dc25-70750c91f120"
      },
      "outputs": [
        {
          "output_type": "stream",
          "name": "stdout",
          "text": [
            "/usr/local/lib/python3.9/dist-packages/gdown/cli.py:121: FutureWarning: Option `--id` was deprecated in version 4.3.1 and will be removed in 5.0. You don't need to pass it anymore to use a file ID.\n",
            "  warnings.warn(\n",
            "Downloading...\n",
            "From: https://drive.google.com/uc?id=1OlcvGWReJMuyYQuOZm149vHWwPtlboR6\n",
            "To: /content/train.csv\n",
            "100% 799k/799k [00:00<00:00, 48.8MB/s]\n",
            "/usr/local/lib/python3.9/dist-packages/gdown/cli.py:121: FutureWarning: Option `--id` was deprecated in version 4.3.1 and will be removed in 5.0. You don't need to pass it anymore to use a file ID.\n",
            "  warnings.warn(\n",
            "Downloading...\n",
            "From: https://drive.google.com/uc?id=1Oi5cRlTybuIF2Fl5Bfsr-KkqrXrdt77w\n",
            "To: /content/valid.csv\n",
            "100% 43.3k/43.3k [00:00<00:00, 6.91MB/s]\n",
            "/usr/local/lib/python3.9/dist-packages/gdown/cli.py:121: FutureWarning: Option `--id` was deprecated in version 4.3.1 and will be removed in 5.0. You don't need to pass it anymore to use a file ID.\n",
            "  warnings.warn(\n",
            "Downloading...\n",
            "From: https://drive.google.com/uc?id=1ep9H6-HvhB4utJRLVcLzieWNUSG3P_uF\n",
            "To: /content/test.csv\n",
            "100% 43.1k/43.1k [00:00<00:00, 36.0MB/s]\n"
          ]
        }
      ],
      "source": [
        "!gdown --id 1OlcvGWReJMuyYQuOZm149vHWwPtlboR6 --output train.csv\n",
        "!gdown --id 1Oi5cRlTybuIF2Fl5Bfsr-KkqrXrdt77w --output valid.csv\n",
        "!gdown --id 1ep9H6-HvhB4utJRLVcLzieWNUSG3P_uF --output test.csv\n",
        "     "
      ]
    },
    {
      "cell_type": "markdown",
      "source": [
        "# **Import Packages**"
      ],
      "metadata": {
        "id": "afLzdbB4qX6Z"
      }
    },
    {
      "cell_type": "code",
      "source": [
        "import pandas as pd\n",
        "import matplotlib.pyplot as plt\n",
        "import re\n",
        "import nltk\n",
        "from nltk.corpus import stopwords\n",
        "from nltk.stem import PorterStemmer\n",
        "from nltk.stem import WordNetLemmatizer\n",
        "from sklearn.feature_extraction.text import CountVectorizer, TfidfVectorizer\n",
        "from sklearn.neighbors import KNeighborsClassifier\n",
        "from sklearn.naive_bayes import GaussianNB\n",
        "from sklearn.svm import SVC\n",
        "from sklearn import linear_model\n",
        "from sklearn.ensemble import RandomForestClassifier\n",
        "from sklearn.ensemble import ExtraTreesClassifier\n",
        "from sklearn.metrics import f1_score\n",
        "\n",
        "from sklearn.metrics import accuracy_score\n",
        "from sklearn.metrics import classification_report\n",
        "from scipy.sparse import csr_matrix\n",
        "\n",
        "%matplotlib inline"
      ],
      "metadata": {
        "id": "xVDaM0YMgOIu"
      },
      "execution_count": 2,
      "outputs": []
    },
    {
      "cell_type": "markdown",
      "source": [
        "# **Read Data**"
      ],
      "metadata": {
        "id": "PKBqotFFqd-p"
      }
    },
    {
      "cell_type": "code",
      "execution_count": 3,
      "metadata": {
        "id": "QrdPiWGLaSQ9"
      },
      "outputs": [],
      "source": [
        "train = pd.read_csv(\"train.csv\")\n",
        "valid = pd.read_csv(\"valid.csv\")\n",
        "test = pd.read_csv(\"test.csv\")\n",
        "     "
      ]
    },
    {
      "cell_type": "code",
      "source": [
        "test.head()"
      ],
      "metadata": {
        "colab": {
          "base_uri": "https://localhost:8080/",
          "height": 206
        },
        "id": "KmngBUJ-geSA",
        "outputId": "91374447-0946-4f58-cd08-f1f20440e5c6"
      },
      "execution_count": null,
      "outputs": [
        {
          "output_type": "execute_result",
          "data": {
            "text/plain": [
              "                                                text          intent\n",
              "0  add sabrina salerno to the grime instrumentals...   AddToPlaylist\n",
              "1  i want to bring four people to a place that s ...  BookRestaurant\n",
              "2  put lindsey cardinale into my hillary clinton ...   AddToPlaylist\n",
              "3                will it snow in mt on june 13  2038      GetWeather\n",
              "4     play signe anderson chant music that is newest       PlayMusic"
            ],
            "text/html": [
              "\n",
              "  <div id=\"df-f102c98a-3a9a-4847-beca-a6318b6d4316\">\n",
              "    <div class=\"colab-df-container\">\n",
              "      <div>\n",
              "<style scoped>\n",
              "    .dataframe tbody tr th:only-of-type {\n",
              "        vertical-align: middle;\n",
              "    }\n",
              "\n",
              "    .dataframe tbody tr th {\n",
              "        vertical-align: top;\n",
              "    }\n",
              "\n",
              "    .dataframe thead th {\n",
              "        text-align: right;\n",
              "    }\n",
              "</style>\n",
              "<table border=\"1\" class=\"dataframe\">\n",
              "  <thead>\n",
              "    <tr style=\"text-align: right;\">\n",
              "      <th></th>\n",
              "      <th>text</th>\n",
              "      <th>intent</th>\n",
              "    </tr>\n",
              "  </thead>\n",
              "  <tbody>\n",
              "    <tr>\n",
              "      <th>0</th>\n",
              "      <td>add sabrina salerno to the grime instrumentals...</td>\n",
              "      <td>AddToPlaylist</td>\n",
              "    </tr>\n",
              "    <tr>\n",
              "      <th>1</th>\n",
              "      <td>i want to bring four people to a place that s ...</td>\n",
              "      <td>BookRestaurant</td>\n",
              "    </tr>\n",
              "    <tr>\n",
              "      <th>2</th>\n",
              "      <td>put lindsey cardinale into my hillary clinton ...</td>\n",
              "      <td>AddToPlaylist</td>\n",
              "    </tr>\n",
              "    <tr>\n",
              "      <th>3</th>\n",
              "      <td>will it snow in mt on june 13  2038</td>\n",
              "      <td>GetWeather</td>\n",
              "    </tr>\n",
              "    <tr>\n",
              "      <th>4</th>\n",
              "      <td>play signe anderson chant music that is newest</td>\n",
              "      <td>PlayMusic</td>\n",
              "    </tr>\n",
              "  </tbody>\n",
              "</table>\n",
              "</div>\n",
              "      <button class=\"colab-df-convert\" onclick=\"convertToInteractive('df-f102c98a-3a9a-4847-beca-a6318b6d4316')\"\n",
              "              title=\"Convert this dataframe to an interactive table.\"\n",
              "              style=\"display:none;\">\n",
              "        \n",
              "  <svg xmlns=\"http://www.w3.org/2000/svg\" height=\"24px\"viewBox=\"0 0 24 24\"\n",
              "       width=\"24px\">\n",
              "    <path d=\"M0 0h24v24H0V0z\" fill=\"none\"/>\n",
              "    <path d=\"M18.56 5.44l.94 2.06.94-2.06 2.06-.94-2.06-.94-.94-2.06-.94 2.06-2.06.94zm-11 1L8.5 8.5l.94-2.06 2.06-.94-2.06-.94L8.5 2.5l-.94 2.06-2.06.94zm10 10l.94 2.06.94-2.06 2.06-.94-2.06-.94-.94-2.06-.94 2.06-2.06.94z\"/><path d=\"M17.41 7.96l-1.37-1.37c-.4-.4-.92-.59-1.43-.59-.52 0-1.04.2-1.43.59L10.3 9.45l-7.72 7.72c-.78.78-.78 2.05 0 2.83L4 21.41c.39.39.9.59 1.41.59.51 0 1.02-.2 1.41-.59l7.78-7.78 2.81-2.81c.8-.78.8-2.07 0-2.86zM5.41 20L4 18.59l7.72-7.72 1.47 1.35L5.41 20z\"/>\n",
              "  </svg>\n",
              "      </button>\n",
              "      \n",
              "  <style>\n",
              "    .colab-df-container {\n",
              "      display:flex;\n",
              "      flex-wrap:wrap;\n",
              "      gap: 12px;\n",
              "    }\n",
              "\n",
              "    .colab-df-convert {\n",
              "      background-color: #E8F0FE;\n",
              "      border: none;\n",
              "      border-radius: 50%;\n",
              "      cursor: pointer;\n",
              "      display: none;\n",
              "      fill: #1967D2;\n",
              "      height: 32px;\n",
              "      padding: 0 0 0 0;\n",
              "      width: 32px;\n",
              "    }\n",
              "\n",
              "    .colab-df-convert:hover {\n",
              "      background-color: #E2EBFA;\n",
              "      box-shadow: 0px 1px 2px rgba(60, 64, 67, 0.3), 0px 1px 3px 1px rgba(60, 64, 67, 0.15);\n",
              "      fill: #174EA6;\n",
              "    }\n",
              "\n",
              "    [theme=dark] .colab-df-convert {\n",
              "      background-color: #3B4455;\n",
              "      fill: #D2E3FC;\n",
              "    }\n",
              "\n",
              "    [theme=dark] .colab-df-convert:hover {\n",
              "      background-color: #434B5C;\n",
              "      box-shadow: 0px 1px 3px 1px rgba(0, 0, 0, 0.15);\n",
              "      filter: drop-shadow(0px 1px 2px rgba(0, 0, 0, 0.3));\n",
              "      fill: #FFFFFF;\n",
              "    }\n",
              "  </style>\n",
              "\n",
              "      <script>\n",
              "        const buttonEl =\n",
              "          document.querySelector('#df-f102c98a-3a9a-4847-beca-a6318b6d4316 button.colab-df-convert');\n",
              "        buttonEl.style.display =\n",
              "          google.colab.kernel.accessAllowed ? 'block' : 'none';\n",
              "\n",
              "        async function convertToInteractive(key) {\n",
              "          const element = document.querySelector('#df-f102c98a-3a9a-4847-beca-a6318b6d4316');\n",
              "          const dataTable =\n",
              "            await google.colab.kernel.invokeFunction('convertToInteractive',\n",
              "                                                     [key], {});\n",
              "          if (!dataTable) return;\n",
              "\n",
              "          const docLinkHtml = 'Like what you see? Visit the ' +\n",
              "            '<a target=\"_blank\" href=https://colab.research.google.com/notebooks/data_table.ipynb>data table notebook</a>'\n",
              "            + ' to learn more about interactive tables.';\n",
              "          element.innerHTML = '';\n",
              "          dataTable['output_type'] = 'display_data';\n",
              "          await google.colab.output.renderOutput(dataTable, element);\n",
              "          const docLink = document.createElement('div');\n",
              "          docLink.innerHTML = docLinkHtml;\n",
              "          element.appendChild(docLink);\n",
              "        }\n",
              "      </script>\n",
              "    </div>\n",
              "  </div>\n",
              "  "
            ]
          },
          "metadata": {},
          "execution_count": 53
        }
      ]
    },
    {
      "cell_type": "code",
      "source": [
        "train.groupby('intent')['text'].nunique()"
      ],
      "metadata": {
        "colab": {
          "base_uri": "https://localhost:8080/"
        },
        "id": "eJHoa_95gm78",
        "outputId": "5ff68541-087a-452b-8541-8deab3319332"
      },
      "execution_count": 4,
      "outputs": [
        {
          "output_type": "execute_result",
          "data": {
            "text/plain": [
              "intent\n",
              "AddToPlaylist           1812\n",
              "BookRestaurant          1876\n",
              "GetWeather              1885\n",
              "PlayMusic               1884\n",
              "RateBook                1822\n",
              "SearchCreativeWork      1844\n",
              "SearchScreeningEvent    1736\n",
              "Name: text, dtype: int64"
            ]
          },
          "metadata": {},
          "execution_count": 4
        }
      ]
    },
    {
      "cell_type": "markdown",
      "source": [
        "# **Feature Engineering**"
      ],
      "metadata": {
        "id": "-J81302hqvS3"
      }
    },
    {
      "cell_type": "code",
      "source": [
        "trainClean = train['text']\n",
        "testClean = test['text']\n",
        "vectorizer = TfidfVectorizer(analyzer='word', min_df=0.0, max_df=1.0,max_features=1024, ngram_range=(1,2))\n",
        "vec = vectorizer.fit(trainClean)\n",
        "\n",
        "X_train = vec.transform(trainClean)\n",
        "X_test = vec.transform(testClean)\n",
        "y_train = train['intent']\n",
        "y_test = test['intent']"
      ],
      "metadata": {
        "id": "ZMXgIl9ZgzQA"
      },
      "execution_count": 5,
      "outputs": []
    },
    {
      "cell_type": "markdown",
      "source": [
        "# **KNN** "
      ],
      "metadata": {
        "id": "n-yNIcMmq0BP"
      }
    },
    {
      "cell_type": "code",
      "source": [
        "neigh = KNeighborsClassifier(n_neighbors=5, weights=\"distance\", p=2)\n",
        "neigh_train = neigh.fit(X_train, y_train) \n",
        "y_pred = neigh_train.predict(X_test)\n",
        "\n",
        "print(\"Multi-class accuracy:\",accuracy_score(y_test, y_pred),\"\\n\")\n",
        "print(classification_report(y_test, y_pred))"
      ],
      "metadata": {
        "colab": {
          "base_uri": "https://localhost:8080/"
        },
        "id": "KR4Knt5ehqh8",
        "outputId": "da11d12f-43b7-40af-b928-e7db4f904260"
      },
      "execution_count": 6,
      "outputs": [
        {
          "output_type": "stream",
          "name": "stdout",
          "text": [
            "Multi-class accuracy: 0.9342857142857143 \n",
            "\n",
            "                      precision    recall  f1-score   support\n",
            "\n",
            "       AddToPlaylist       0.95      0.98      0.96       124\n",
            "      BookRestaurant       0.96      0.98      0.97        92\n",
            "          GetWeather       0.96      0.96      0.96       104\n",
            "           PlayMusic       0.91      0.85      0.88        86\n",
            "            RateBook       0.99      0.99      0.99        80\n",
            "  SearchCreativeWork       0.82      0.90      0.86       107\n",
            "SearchScreeningEvent       0.98      0.88      0.93       107\n",
            "\n",
            "            accuracy                           0.93       700\n",
            "           macro avg       0.94      0.93      0.93       700\n",
            "        weighted avg       0.94      0.93      0.93       700\n",
            "\n"
          ]
        }
      ]
    },
    {
      "cell_type": "markdown",
      "source": [
        "# **Naive Bayes**"
      ],
      "metadata": {
        "id": "jllY0EHqrN5y"
      }
    },
    {
      "cell_type": "code",
      "source": [
        "clf = GaussianNB()\n",
        "clf.fit(X_train.toarray(),y_train)\n",
        "y_pred = clf.predict(X_test.toarray())\n",
        "\n",
        "print(\"Multi-class accuracy:\",accuracy_score(y_test, y_pred),\"\\n\")\n",
        "print(classification_report(y_test, y_pred))\n",
        "\n"
      ],
      "metadata": {
        "colab": {
          "base_uri": "https://localhost:8080/"
        },
        "id": "QAEHktamjNkW",
        "outputId": "bdb800a6-ac95-4d09-ed0b-ca6e470100c8"
      },
      "execution_count": 7,
      "outputs": [
        {
          "output_type": "stream",
          "name": "stdout",
          "text": [
            "Multi-class accuracy: 0.9242857142857143 \n",
            "\n",
            "                      precision    recall  f1-score   support\n",
            "\n",
            "       AddToPlaylist       0.88      0.98      0.93       124\n",
            "      BookRestaurant       1.00      0.99      0.99        92\n",
            "          GetWeather       0.98      1.00      0.99       104\n",
            "           PlayMusic       0.90      0.84      0.87        86\n",
            "            RateBook       0.97      0.96      0.97        80\n",
            "  SearchCreativeWork       0.89      0.77      0.82       107\n",
            "SearchScreeningEvent       0.87      0.93      0.90       107\n",
            "\n",
            "            accuracy                           0.92       700\n",
            "           macro avg       0.93      0.92      0.92       700\n",
            "        weighted avg       0.92      0.92      0.92       700\n",
            "\n"
          ]
        }
      ]
    },
    {
      "cell_type": "markdown",
      "source": [
        "# **SVM**"
      ],
      "metadata": {
        "id": "CL4_ynEgrwIM"
      }
    },
    {
      "cell_type": "code",
      "source": [
        "clf = SVC(kernel=\"linear\", C=10)\n",
        "\n",
        "clf.fit(X_train.toarray(),y_train)\n",
        "y_pred = clf.predict(X_test.toarray())\n",
        "\n",
        "print(\"Multi-class accuracy:\",accuracy_score(y_test, y_pred),\"\\n\")\n",
        "print(classification_report(y_test, y_pred))"
      ],
      "metadata": {
        "colab": {
          "base_uri": "https://localhost:8080/"
        },
        "id": "ipi05LgEkWUW",
        "outputId": "e3014b59-189f-49cd-ecfd-d68cf20213dc"
      },
      "execution_count": 8,
      "outputs": [
        {
          "output_type": "stream",
          "name": "stdout",
          "text": [
            "Multi-class accuracy: 0.9685714285714285 \n",
            "\n",
            "                      precision    recall  f1-score   support\n",
            "\n",
            "       AddToPlaylist       0.99      1.00      1.00       124\n",
            "      BookRestaurant       0.97      0.99      0.98        92\n",
            "          GetWeather       0.98      0.98      0.98       104\n",
            "           PlayMusic       0.95      0.98      0.97        86\n",
            "            RateBook       1.00      1.00      1.00        80\n",
            "  SearchCreativeWork       0.90      0.95      0.93       107\n",
            "SearchScreeningEvent       0.99      0.89      0.94       107\n",
            "\n",
            "            accuracy                           0.97       700\n",
            "           macro avg       0.97      0.97      0.97       700\n",
            "        weighted avg       0.97      0.97      0.97       700\n",
            "\n"
          ]
        }
      ]
    },
    {
      "cell_type": "markdown",
      "source": [
        "# **Random Forest**"
      ],
      "metadata": {
        "id": "XhW4B-TZsHBF"
      }
    },
    {
      "cell_type": "code",
      "source": [
        "clf = RandomForestClassifier(n_estimators=200)\n",
        "\n",
        "clf.fit(X_train.toarray(),y_train)\n",
        "y_pred = clf.predict(X_test.toarray())\n",
        "\n",
        "print(\"Multi-class accuracy:\",accuracy_score(y_test, y_pred),\"\\n\")\n",
        "print(classification_report(y_test, y_pred))"
      ],
      "metadata": {
        "colab": {
          "base_uri": "https://localhost:8080/"
        },
        "id": "_NlD8XcVkcm7",
        "outputId": "8b0d80af-2677-4ee3-b045-8d43b1816829"
      },
      "execution_count": 9,
      "outputs": [
        {
          "output_type": "stream",
          "name": "stdout",
          "text": [
            "Multi-class accuracy: 0.9714285714285714 \n",
            "\n",
            "                      precision    recall  f1-score   support\n",
            "\n",
            "       AddToPlaylist       0.99      1.00      1.00       124\n",
            "      BookRestaurant       0.98      1.00      0.99        92\n",
            "          GetWeather       0.98      0.98      0.98       104\n",
            "           PlayMusic       0.96      0.99      0.97        86\n",
            "            RateBook       1.00      0.99      0.99        80\n",
            "  SearchCreativeWork       0.90      0.95      0.93       107\n",
            "SearchScreeningEvent       1.00      0.90      0.95       107\n",
            "\n",
            "            accuracy                           0.97       700\n",
            "           macro avg       0.97      0.97      0.97       700\n",
            "        weighted avg       0.97      0.97      0.97       700\n",
            "\n"
          ]
        }
      ]
    },
    {
      "cell_type": "code",
      "source": [],
      "metadata": {
        "id": "dxSrvE4YkiU_"
      },
      "execution_count": null,
      "outputs": []
    }
  ]
}